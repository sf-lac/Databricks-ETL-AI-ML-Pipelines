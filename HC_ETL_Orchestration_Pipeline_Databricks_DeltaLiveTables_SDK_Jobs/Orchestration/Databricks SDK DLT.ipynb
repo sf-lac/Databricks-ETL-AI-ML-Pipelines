{
 "cells": [
  {
   "cell_type": "markdown",
   "metadata": {
    "application/vnd.databricks.v1+cell": {
     "cellMetadata": {},
     "inputWidgets": {},
     "nuid": "e9cabdef-e044-461b-be3e-8f0df3397cb9",
     "showTitle": false,
     "tableResultSettingsMap": {},
     "title": ""
    }
   },
   "source": [
    "Install Databricks SDK"
   ]
  },
  {
   "cell_type": "code",
   "execution_count": 0,
   "metadata": {
    "application/vnd.databricks.v1+cell": {
     "cellMetadata": {
      "byteLimit": 2048000,
      "rowLimit": 10000
     },
     "inputWidgets": {},
     "nuid": "f35e8f95-9f81-440d-b691-3f8b1ebc9e8b",
     "showTitle": false,
     "tableResultSettingsMap": {},
     "title": ""
    }
   },
   "outputs": [
    {
     "output_type": "stream",
     "name": "stdout",
     "output_type": "stream",
     "text": [
      "Requirement already satisfied: databricks-sdk in /databricks/python3/lib/python3.11/site-packages (0.20.0)\nCollecting databricks-sdk\n  Obtaining dependency information for databricks-sdk from https://files.pythonhosted.org/packages/ab/4e/78dc7ecbd7ffe828a2657e88e8e5f2a4bac0942f7a7d6a91f49d5b72aa44/databricks_sdk-0.36.0-py3-none-any.whl.metadata\n  Downloading databricks_sdk-0.36.0-py3-none-any.whl.metadata (38 kB)\nRequirement already satisfied: requests<3,>=2.28.1 in /databricks/python3/lib/python3.11/site-packages (from databricks-sdk) (2.31.0)\nRequirement already satisfied: google-auth~=2.0 in /databricks/python3/lib/python3.11/site-packages (from databricks-sdk) (2.21.0)\nRequirement already satisfied: cachetools<6.0,>=2.0.0 in /databricks/python3/lib/python3.11/site-packages (from google-auth~=2.0->databricks-sdk) (5.4.0)\nRequirement already satisfied: pyasn1-modules>=0.2.1 in /databricks/python3/lib/python3.11/site-packages (from google-auth~=2.0->databricks-sdk) (0.2.8)\nRequirement already satisfied: rsa<5,>=3.1.4 in /databricks/python3/lib/python3.11/site-packages (from google-auth~=2.0->databricks-sdk) (4.9)\nRequirement already satisfied: six>=1.9.0 in /usr/lib/python3/dist-packages (from google-auth~=2.0->databricks-sdk) (1.16.0)\nRequirement already satisfied: urllib3<2.0 in /databricks/python3/lib/python3.11/site-packages (from google-auth~=2.0->databricks-sdk) (1.26.16)\nRequirement already satisfied: charset-normalizer<4,>=2 in /databricks/python3/lib/python3.11/site-packages (from requests<3,>=2.28.1->databricks-sdk) (2.0.4)\nRequirement already satisfied: idna<4,>=2.5 in /databricks/python3/lib/python3.11/site-packages (from requests<3,>=2.28.1->databricks-sdk) (3.4)\nRequirement already satisfied: certifi>=2017.4.17 in /databricks/python3/lib/python3.11/site-packages (from requests<3,>=2.28.1->databricks-sdk) (2023.7.22)\nRequirement already satisfied: pyasn1<0.5.0,>=0.4.6 in /databricks/python3/lib/python3.11/site-packages (from pyasn1-modules>=0.2.1->google-auth~=2.0->databricks-sdk) (0.4.8)\nDownloading databricks_sdk-0.36.0-py3-none-any.whl (569 kB)\n\u001B[?25l   \u001B[90m━━━━━━━━━━━━━━━━━━━━━━━━━━━━━━━━━━━━━━━━\u001B[0m \u001B[32m0.0/569.1 kB\u001B[0m \u001B[31m?\u001B[0m eta \u001B[36m-:--:--\u001B[0m\n\u001B[2K   \u001B[90m━━━━━━━━━━━━━━━━━━━━━━━━━━━━━━━━━━━━━━━━\u001B[0m \u001B[32m569.1/569.1 kB\u001B[0m \u001B[31m17.1 MB/s\u001B[0m eta \u001B[36m0:00:00\u001B[0m\n\u001B[?25hInstalling collected packages: databricks-sdk\n  Attempting uninstall: databricks-sdk\n    Found existing installation: databricks-sdk 0.20.0\n    Not uninstalling databricks-sdk at /databricks/python3/lib/python3.11/site-packages, outside environment /local_disk0/.ephemeral_nfs/envs/pythonEnv-37d204a1-bc55-48cc-8b4d-39435304f884\n    Can't uninstall 'databricks-sdk'. No files were found to uninstall.\nSuccessfully installed databricks-sdk-0.36.0\n\u001B[43mNote: you may need to restart the kernel using %restart_python or dbutils.library.restartPython() to use updated packages.\u001B[0m\n"
     ]
    }
   ],
   "source": [
    "%pip install databricks-sdk --upgrade"
   ]
  },
  {
   "cell_type": "code",
   "execution_count": 0,
   "metadata": {
    "application/vnd.databricks.v1+cell": {
     "cellMetadata": {
      "byteLimit": 2048000,
      "rowLimit": 10000
     },
     "inputWidgets": {},
     "nuid": "de91bed7-b794-4fc0-9301-25e02f73453f",
     "showTitle": false,
     "tableResultSettingsMap": {},
     "title": ""
    }
   },
   "outputs": [
    {
     "output_type": "stream",
     "name": "stdout",
     "output_type": "stream",
     "text": [
      "0.36.0\n"
     ]
    }
   ],
   "source": [
    "%pip show databricks-sdk | grep -oP '(?<=Version: )\\S+'"
   ]
  },
  {
   "cell_type": "markdown",
   "metadata": {
    "application/vnd.databricks.v1+cell": {
     "cellMetadata": {},
     "inputWidgets": {},
     "nuid": "e905b629-cb9a-4459-8e4d-d80328e86acb",
     "showTitle": false,
     "tableResultSettingsMap": {},
     "title": ""
    }
   },
   "source": [
    "Create Databricks job"
   ]
  },
  {
   "cell_type": "code",
   "execution_count": 0,
   "metadata": {
    "application/vnd.databricks.v1+cell": {
     "cellMetadata": {
      "byteLimit": 2048000,
      "rowLimit": 10000
     },
     "inputWidgets": {},
     "nuid": "97b42c25-a585-4c19-9084-f9fdac002877",
     "showTitle": false,
     "tableResultSettingsMap": {},
     "title": ""
    }
   },
   "outputs": [
    {
     "output_type": "stream",
     "name": "stdout",
     "output_type": "stream",
     "text": [
      "Attempting to create the job. Please wait...\n\nView the job at https://westus.azuredatabricks.net/#job/167559915304449\n\n"
     ]
    }
   ],
   "source": [
    "from databricks.sdk import WorkspaceClient\n",
    "from databricks.sdk.service.jobs import Task, PipelineTask, Source\n",
    "\n",
    "w = WorkspaceClient()\n",
    "\n",
    "job_name = \"Databricks SDK Job\"\n",
    "description = \"Databricks SDK Job to Run a Delta Live Tables Data Pipeline\"\n",
    "pipeline_id = \"ce45eeba-9337-4580-9b4a-402ac3ae231f\"\n",
    "task_key = \"dlt_pipeline_task\"\n",
    "\n",
    "print(\"Attempting to create the job. Please wait...\\n\")\n",
    "\n",
    "j = w.jobs.create(\n",
    "    name = job_name,\n",
    "    tasks = [\n",
    "        Task(\n",
    "            description = description,           \n",
    "            pipeline_task = PipelineTask(\n",
    "                pipeline_id=pipeline_id,\n",
    "                full_refresh=False                \n",
    "            ),\n",
    "            task_key = task_key\n",
    "        )\n",
    "    ]\n",
    ")\n",
    "\n",
    "print(f\"View the job at {w.config.host}/#job/{j.job_id}\\n\")"
   ]
  },
  {
   "cell_type": "code",
   "execution_count": 0,
   "metadata": {
    "application/vnd.databricks.v1+cell": {
     "cellMetadata": {
      "byteLimit": 2048000,
      "rowLimit": 10000
     },
     "inputWidgets": {},
     "nuid": "6b966322-4c5e-49d6-ab34-a3598c4aa3fa",
     "showTitle": false,
     "tableResultSettingsMap": {},
     "title": ""
    }
   },
   "outputs": [
    {
     "output_type": "execute_result",
     "data": {
      "text/plain": [
       "620884104255456"
      ]
     },
     "execution_count": 6,
     "metadata": {},
     "output_type": "execute_result"
    }
   ],
   "source": [
    "run_now_response = w.jobs.run_now(job_id=j.job_id)\n",
    "run_now_response.response.run_id"
   ]
  },
  {
   "cell_type": "markdown",
   "metadata": {
    "application/vnd.databricks.v1+cell": {
     "cellMetadata": {},
     "inputWidgets": {},
     "nuid": "7e73c53f-b612-4bee-9db3-0f35261e9483",
     "showTitle": false,
     "tableResultSettingsMap": {},
     "title": ""
    }
   },
   "source": [
    "Created new Delta Live Tables pipeline update with ID: 841f563c-7fba-460b-939b-282ee46ca592 from existing one, ce45eeba-9337-4580-9b4a-402ac3ae231f"
   ]
  },
  {
   "cell_type": "markdown",
   "metadata": {
    "application/vnd.databricks.v1+cell": {
     "cellMetadata": {},
     "inputWidgets": {},
     "nuid": "7e88d7d6-d292-4f75-a7d9-5d9d457764ba",
     "showTitle": false,
     "tableResultSettingsMap": {},
     "title": ""
    }
   },
   "source": [
    "Cancel job"
   ]
  },
  {
   "cell_type": "code",
   "execution_count": 0,
   "metadata": {
    "application/vnd.databricks.v1+cell": {
     "cellMetadata": {
      "byteLimit": 2048000,
      "rowLimit": 10000
     },
     "inputWidgets": {},
     "nuid": "46579b44-6728-48dc-baf3-d8c901c27e1d",
     "showTitle": false,
     "tableResultSettingsMap": {},
     "title": ""
    }
   },
   "outputs": [
    {
     "output_type": "execute_result",
     "data": {
      "text/plain": [
       "Run(attempt_number=None, cleanup_duration=0, cluster_instance=None, cluster_spec=None, creator_user_name='odl_user_1503114@databrickslabs.com', end_time=1731015216612, execution_duration=73000, git_source=None, job_clusters=[], job_id=167559915304449, job_parameters=[], number_in_job=620884104255456, original_attempt_run_id=620884104255456, overriding_parameters=None, repair_history=[], run_duration=None, run_id=620884104255456, run_name='Databricks SDK Job', run_page_url='https://adb-3587007519857700.0.azuredatabricks.net/?o=3587007519857700#job/167559915304449/run/620884104255456', run_type=<RunType.JOB_RUN: 'JOB_RUN'>, schedule=None, setup_duration=0, start_time=1731015142815, state=RunState(life_cycle_state=<RunLifeCycleState.TERMINATED: 'TERMINATED'>, queue_reason=None, result_state=<RunResultState.SUCCESS: 'SUCCESS'>, state_message='', user_cancelled_or_timedout=False), tasks=[RunTask(attempt_number=0, cleanup_duration=0, cluster_instance=None, condition_task=None, dbt_task=None, depends_on=[], description='Databricks SDK Job to Run a Delta Live Tables Data Pipeline', end_time=1731015216427, execution_duration=73000, existing_cluster_id=None, for_each_task=None, git_source=None, libraries=[], new_cluster=None, notebook_task=None, pipeline_task=PipelineTask(full_refresh=False, pipeline_id='ce45eeba-9337-4580-9b4a-402ac3ae231f'), python_wheel_task=None, queue_duration=None, resolved_values=None, run_id=818775641266315, run_if=<RunIf.ALL_SUCCESS: 'ALL_SUCCESS'>, run_job_task=None, setup_duration=0, spark_jar_task=None, spark_python_task=None, spark_submit_task=None, sql_task=None, start_time=1731015142837, state=RunState(life_cycle_state=<RunLifeCycleState.TERMINATED: 'TERMINATED'>, queue_reason=None, result_state=<RunResultState.SUCCESS: 'SUCCESS'>, state_message='', user_cancelled_or_timedout=False), task_key='dlt_pipeline_task')], trigger=<TriggerType.ONE_TIME: 'ONE_TIME'>, trigger_info=None)"
      ]
     },
     "execution_count": 7,
     "metadata": {},
     "output_type": "execute_result"
    }
   ],
   "source": [
    "cancelled_run = w.jobs.cancel_run(run_id=run_now_response.response.run_id).result()\n",
    "cancelled_run"
   ]
  },
  {
   "cell_type": "markdown",
   "metadata": {
    "application/vnd.databricks.v1+cell": {
     "cellMetadata": {},
     "inputWidgets": {},
     "nuid": "f707a67a-0789-40a6-aa4a-9536dc0a0c79",
     "showTitle": false,
     "tableResultSettingsMap": {},
     "title": ""
    }
   },
   "source": [
    "Delete job"
   ]
  },
  {
   "cell_type": "code",
   "execution_count": 0,
   "metadata": {
    "application/vnd.databricks.v1+cell": {
     "cellMetadata": {},
     "inputWidgets": {},
     "nuid": "5fbbd240-76c3-4bf2-80f6-da8a8b3e2b91",
     "showTitle": false,
     "tableResultSettingsMap": {},
     "title": ""
    }
   },
   "outputs": [],
   "source": [
    "w.jobs.delete(job_id=j.job_id)"
   ]
  },
  {
   "cell_type": "code",
   "execution_count": 0,
   "metadata": {
    "application/vnd.databricks.v1+cell": {
     "cellMetadata": {
      "byteLimit": 2048000,
      "rowLimit": 10000
     },
     "inputWidgets": {},
     "nuid": "4072561c-61cf-4e19-9432-1e040bd9554d",
     "showTitle": false,
     "tableResultSettingsMap": {},
     "title": ""
    }
   },
   "outputs": [
    {
     "output_type": "display_data",
     "data": {
      "text/html": [
       "<style scoped>\n",
       "  .table-result-container {\n",
       "    max-height: 300px;\n",
       "    overflow: auto;\n",
       "  }\n",
       "  table, th, td {\n",
       "    border: 1px solid black;\n",
       "    border-collapse: collapse;\n",
       "  }\n",
       "  th, td {\n",
       "    padding: 5px;\n",
       "  }\n",
       "  th {\n",
       "    text-align: left;\n",
       "  }\n",
       "</style><div class='table-result-container'><table class='table-result'><thead style='background-color: white'><tr><th>Year</th><th>First_Name</th><th>County</th><th>Sex</th><th>Count</th></tr></thead><tbody><tr><td>2021</td><td>OLIVIA</td><td>Albany</td><td>F</td><td>16</td></tr><tr><td>2021</td><td>AMELIA</td><td>Albany</td><td>F</td><td>16</td></tr><tr><td>2021</td><td>SOPHIA</td><td>Albany</td><td>F</td><td>13</td></tr><tr><td>2021</td><td>AVA</td><td>Albany</td><td>F</td><td>13</td></tr><tr><td>2021</td><td>EMMA</td><td>Albany</td><td>F</td><td>12</td></tr><tr><td>2021</td><td>PENELOPE</td><td>Albany</td><td>F</td><td>11</td></tr><tr><td>2021</td><td>MADISON</td><td>Albany</td><td>F</td><td>10</td></tr><tr><td>2021</td><td>ABIGAIL</td><td>Albany</td><td>F</td><td>10</td></tr><tr><td>2021</td><td>HARPER</td><td>Albany</td><td>F</td><td>10</td></tr><tr><td>2021</td><td>ISLA</td><td>Albany</td><td>F</td><td>9</td></tr></tbody></table></div>"
      ]
     },
     "metadata": {
      "application/vnd.databricks.v1+output": {
       "addedWidgets": {},
       "aggData": [],
       "aggError": "",
       "aggOverflow": false,
       "aggSchema": [],
       "aggSeriesLimitReached": false,
       "aggType": "",
       "arguments": {},
       "columnCustomDisplayInfos": {},
       "data": [
        [
         2021,
         "OLIVIA",
         "Albany",
         "F",
         16
        ],
        [
         2021,
         "AMELIA",
         "Albany",
         "F",
         16
        ],
        [
         2021,
         "SOPHIA",
         "Albany",
         "F",
         13
        ],
        [
         2021,
         "AVA",
         "Albany",
         "F",
         13
        ],
        [
         2021,
         "EMMA",
         "Albany",
         "F",
         12
        ],
        [
         2021,
         "PENELOPE",
         "Albany",
         "F",
         11
        ],
        [
         2021,
         "MADISON",
         "Albany",
         "F",
         10
        ],
        [
         2021,
         "ABIGAIL",
         "Albany",
         "F",
         10
        ],
        [
         2021,
         "HARPER",
         "Albany",
         "F",
         10
        ],
        [
         2021,
         "ISLA",
         "Albany",
         "F",
         9
        ]
       ],
       "datasetInfos": [],
       "dbfsResultPath": null,
       "isJsonSchema": true,
       "metadata": {},
       "overflow": false,
       "plotOptions": {
        "customPlotOptions": {},
        "displayType": "table",
        "pivotAggregation": null,
        "pivotColumns": null,
        "xColumns": null,
        "yColumns": null
       },
       "removedWidgets": [],
       "schema": [
        {
         "metadata": "{}",
         "name": "Year",
         "type": "\"integer\""
        },
        {
         "metadata": "{}",
         "name": "First_Name",
         "type": "\"string\""
        },
        {
         "metadata": "{}",
         "name": "County",
         "type": "\"string\""
        },
        {
         "metadata": "{}",
         "name": "Sex",
         "type": "\"string\""
        },
        {
         "metadata": "{}",
         "name": "Count",
         "type": "\"integer\""
        }
       ],
       "type": "table"
      }
     },
     "output_type": "display_data"
    }
   ],
   "source": [
    "display(spark.sql(\"SELECT * FROM main.`dlt-sql`.dlt_sql_bronze limit 10\"))"
   ]
  },
  {
   "cell_type": "code",
   "execution_count": 0,
   "metadata": {
    "application/vnd.databricks.v1+cell": {
     "cellMetadata": {
      "byteLimit": 2048000,
      "rowLimit": 10000
     },
     "inputWidgets": {},
     "nuid": "2c24844c-9035-4aec-aa49-a90e7bf38dae",
     "showTitle": false,
     "tableResultSettingsMap": {},
     "title": ""
    }
   },
   "outputs": [
    {
     "output_type": "display_data",
     "data": {
      "text/html": [
       "<style scoped>\n",
       "  .table-result-container {\n",
       "    max-height: 300px;\n",
       "    overflow: auto;\n",
       "  }\n",
       "  table, th, td {\n",
       "    border: 1px solid black;\n",
       "    border-collapse: collapse;\n",
       "  }\n",
       "  th, td {\n",
       "    padding: 5px;\n",
       "  }\n",
       "  th {\n",
       "    text-align: left;\n",
       "  }\n",
       "</style><div class='table-result-container'><table class='table-result'><thead style='background-color: white'><tr><th>Year_Of_Birth</th><th>First_Name</th><th>Count</th></tr></thead><tbody><tr><td>2021</td><td>OLIVIA</td><td>16</td></tr><tr><td>2021</td><td>AMELIA</td><td>16</td></tr><tr><td>2021</td><td>SOPHIA</td><td>13</td></tr><tr><td>2021</td><td>AVA</td><td>13</td></tr><tr><td>2021</td><td>EMMA</td><td>12</td></tr><tr><td>2021</td><td>PENELOPE</td><td>11</td></tr><tr><td>2021</td><td>MADISON</td><td>10</td></tr><tr><td>2021</td><td>ABIGAIL</td><td>10</td></tr><tr><td>2021</td><td>HARPER</td><td>10</td></tr><tr><td>2021</td><td>ISLA</td><td>9</td></tr></tbody></table></div>"
      ]
     },
     "metadata": {
      "application/vnd.databricks.v1+output": {
       "addedWidgets": {},
       "aggData": [],
       "aggError": "",
       "aggOverflow": false,
       "aggSchema": [],
       "aggSeriesLimitReached": false,
       "aggType": "",
       "arguments": {},
       "columnCustomDisplayInfos": {},
       "data": [
        [
         2021,
         "OLIVIA",
         16
        ],
        [
         2021,
         "AMELIA",
         16
        ],
        [
         2021,
         "SOPHIA",
         13
        ],
        [
         2021,
         "AVA",
         13
        ],
        [
         2021,
         "EMMA",
         12
        ],
        [
         2021,
         "PENELOPE",
         11
        ],
        [
         2021,
         "MADISON",
         10
        ],
        [
         2021,
         "ABIGAIL",
         10
        ],
        [
         2021,
         "HARPER",
         10
        ],
        [
         2021,
         "ISLA",
         9
        ]
       ],
       "datasetInfos": [],
       "dbfsResultPath": null,
       "isJsonSchema": true,
       "metadata": {},
       "overflow": false,
       "plotOptions": {
        "customPlotOptions": {},
        "displayType": "table",
        "pivotAggregation": null,
        "pivotColumns": null,
        "xColumns": null,
        "yColumns": null
       },
       "removedWidgets": [],
       "schema": [
        {
         "metadata": "{}",
         "name": "Year_Of_Birth",
         "type": "\"integer\""
        },
        {
         "metadata": "{}",
         "name": "First_Name",
         "type": "\"string\""
        },
        {
         "metadata": "{}",
         "name": "Count",
         "type": "\"integer\""
        }
       ],
       "type": "table"
      }
     },
     "output_type": "display_data"
    }
   ],
   "source": [
    "display(spark.sql(\"SELECT * FROM main.`dlt-sql`.dlt_sql_silver limit 10\"))"
   ]
  },
  {
   "cell_type": "code",
   "execution_count": 0,
   "metadata": {
    "application/vnd.databricks.v1+cell": {
     "cellMetadata": {
      "byteLimit": 2048000,
      "rowLimit": 10000
     },
     "inputWidgets": {},
     "nuid": "27fd4feb-463a-40a8-847a-49a9b4837b38",
     "showTitle": false,
     "tableResultSettingsMap": {},
     "title": ""
    }
   },
   "outputs": [
    {
     "output_type": "display_data",
     "data": {
      "text/html": [
       "<style scoped>\n",
       "  .table-result-container {\n",
       "    max-height: 300px;\n",
       "    overflow: auto;\n",
       "  }\n",
       "  table, th, td {\n",
       "    border: 1px solid black;\n",
       "    border-collapse: collapse;\n",
       "  }\n",
       "  th, td {\n",
       "    padding: 5px;\n",
       "  }\n",
       "  th {\n",
       "    text-align: left;\n",
       "  }\n",
       "</style><div class='table-result-container'><table class='table-result'><thead style='background-color: white'><tr><th>First_Name</th><th>Total_Count</th></tr></thead><tbody><tr><td>LIAM</td><td>1359</td></tr><tr><td>NOAH</td><td>1255</td></tr><tr><td>OLIVIA</td><td>924</td></tr><tr><td>EMMA</td><td>924</td></tr><tr><td>LUCAS</td><td>774</td></tr><tr><td>SOPHIA</td><td>754</td></tr><tr><td>JOSEPH</td><td>749</td></tr><tr><td>MIA</td><td>720</td></tr><tr><td>JACOB</td><td>711</td></tr><tr><td>AMELIA</td><td>695</td></tr></tbody></table></div>"
      ]
     },
     "metadata": {
      "application/vnd.databricks.v1+output": {
       "addedWidgets": {},
       "aggData": [],
       "aggError": "",
       "aggOverflow": false,
       "aggSchema": [],
       "aggSeriesLimitReached": false,
       "aggType": "",
       "arguments": {},
       "columnCustomDisplayInfos": {},
       "data": [
        [
         "LIAM",
         1359
        ],
        [
         "NOAH",
         1255
        ],
        [
         "OLIVIA",
         924
        ],
        [
         "EMMA",
         924
        ],
        [
         "LUCAS",
         774
        ],
        [
         "SOPHIA",
         754
        ],
        [
         "JOSEPH",
         749
        ],
        [
         "MIA",
         720
        ],
        [
         "JACOB",
         711
        ],
        [
         "AMELIA",
         695
        ]
       ],
       "datasetInfos": [],
       "dbfsResultPath": null,
       "isJsonSchema": true,
       "metadata": {},
       "overflow": false,
       "plotOptions": {
        "customPlotOptions": {},
        "displayType": "table",
        "pivotAggregation": null,
        "pivotColumns": null,
        "xColumns": null,
        "yColumns": null
       },
       "removedWidgets": [],
       "schema": [
        {
         "metadata": "{}",
         "name": "First_Name",
         "type": "\"string\""
        },
        {
         "metadata": "{}",
         "name": "Total_Count",
         "type": "\"long\""
        }
       ],
       "type": "table"
      }
     },
     "output_type": "display_data"
    }
   ],
   "source": [
    "display(spark.sql(\"SELECT * FROM main.`dlt-sql`.dlt_sql_gold limit 10\"))"
   ]
  }
 ],
 "metadata": {
  "application/vnd.databricks.v1+notebook": {
   "dashboards": [],
   "environmentMetadata": {
    "base_environment": "",
    "client": "1"
   },
   "language": "python",
   "notebookMetadata": {
    "pythonIndentUnit": 2
   },
   "notebookName": "Databricks SDK DLT",
   "widgets": {}
  },
  "language_info": {
   "name": "python"
  }
 },
 "nbformat": 4,
 "nbformat_minor": 0
}