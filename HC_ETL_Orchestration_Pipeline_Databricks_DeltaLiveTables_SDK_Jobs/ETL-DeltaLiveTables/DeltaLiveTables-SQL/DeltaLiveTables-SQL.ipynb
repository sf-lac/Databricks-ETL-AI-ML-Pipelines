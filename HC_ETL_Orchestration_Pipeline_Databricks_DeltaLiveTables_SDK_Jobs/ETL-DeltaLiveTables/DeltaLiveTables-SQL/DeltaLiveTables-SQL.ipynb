{
 "cells": [
  {
   "cell_type": "markdown",
   "metadata": {
    "application/vnd.databricks.v1+cell": {
     "cellMetadata": {},
     "inputWidgets": {},
     "nuid": "87e07a35-fe90-41d6-9377-ddc775073d1c",
     "showTitle": false,
     "tableResultSettingsMap": {},
     "title": ""
    }
   },
   "source": [
    "Ingest data into bronze (raw) table"
   ]
  },
  {
   "cell_type": "code",
   "execution_count": 0,
   "metadata": {
    "application/vnd.databricks.v1+cell": {
     "cellMetadata": {
      "byteLimit": 2048000,
      "rowLimit": 10000
     },
     "inputWidgets": {},
     "nuid": "6f40c5f5-9ba6-44ba-b4c3-c5d6d5cfd4f2",
     "showTitle": false,
     "tableResultSettingsMap": {},
     "title": ""
    }
   },
   "outputs": [],
   "source": [
    "CREATE OR REFRESH LIVE TABLE dlt_sql_bronze\n",
    "COMMENT \"Data ingested from NY State Department of Health\"\n",
    "AS SELECT Year, `First Name` AS First_Name, County, Sex, Count \n",
    "FROM read_files(\n",
    "  '/Volumes/main/default/unity_volume/rows.csv',\n",
    "  format => 'csv',\n",
    "  header => true,\n",
    "  mode => 'FAILFAST'\n",
    ")"
   ]
  },
  {
   "cell_type": "markdown",
   "metadata": {
    "application/vnd.databricks.v1+cell": {
     "cellMetadata": {},
     "inputWidgets": {},
     "nuid": "92676227-952a-483c-85af-9441d1c9ae46",
     "showTitle": false,
     "tableResultSettingsMap": {},
     "title": ""
    }
   },
   "source": [
    "Clean and prepare data"
   ]
  },
  {
   "cell_type": "code",
   "execution_count": 0,
   "metadata": {
    "application/vnd.databricks.v1+cell": {
     "cellMetadata": {
      "byteLimit": 2048000,
      "rowLimit": 10000
     },
     "inputWidgets": {},
     "nuid": "bc3c97f7-42eb-4d50-bfa5-42c9f4b57f55",
     "showTitle": false,
     "tableResultSettingsMap": {},
     "title": ""
    }
   },
   "outputs": [],
   "source": [
    "CREATE OR REFRESH LIVE TABLE dlt_sql_silver(\n",
    "  CONSTRAINT valid_first_name EXPECT (First_Name IS NOT NULL),\n",
    "  CONSTRAINT valid_count EXPECT (Count > 0) ON VIOLATION FAIL UPDATE\n",
    ")\n",
    "COMMENT \"Data cleaned and prepared for analysis\"\n",
    "AS SELECT\n",
    "  Year AS Year_Of_Birth,\n",
    "  First_Name,\n",
    "  Count\n",
    "FROM live.dlt_sql_bronze;"
   ]
  },
  {
   "cell_type": "markdown",
   "metadata": {
    "application/vnd.databricks.v1+cell": {
     "cellMetadata": {},
     "inputWidgets": {},
     "nuid": "a06a904c-4cd5-487c-bc5e-eeaeb955d8f1",
     "showTitle": false,
     "tableResultSettingsMap": {},
     "title": ""
    }
   },
   "source": [
    "Aggregate data"
   ]
  },
  {
   "cell_type": "code",
   "execution_count": 0,
   "metadata": {
    "application/vnd.databricks.v1+cell": {
     "cellMetadata": {
      "byteLimit": 2048000,
      "rowLimit": 10000
     },
     "inputWidgets": {},
     "nuid": "db436aaa-f12e-43c5-8092-921018af9be3",
     "showTitle": false,
     "tableResultSettingsMap": {},
     "title": ""
    }
   },
   "outputs": [],
   "source": [
    "CREATE OR REFRESH LIVE TABLE dlt_sql_gold\n",
    "COMMENT \"A table summarizing counts of the top names for NY in 2021.\"\n",
    "AS SELECT\n",
    "First_Name,\n",
    "SUM(Count) AS Total_Count\n",
    "FROM live.dlt_sql_silver\n",
    "WHERE Year_Of_Birth = 2021\n",
    "GROUP BY First_Name\n",
    "ORDER BY Total_Count DESC;"
   ]
  }
 ],
 "metadata": {
  "application/vnd.databricks.v1+notebook": {
   "dashboards": [],
   "environmentMetadata": {
    "base_environment": "",
    "client": "1"
   },
   "language": "sql",
   "notebookMetadata": {
    "pythonIndentUnit": 2
   },
   "notebookName": "DeltaLiveTables-SQL",
   "widgets": {}
  },
  "language_info": {
   "name": "sql"
  }
 },
 "nbformat": 4,
 "nbformat_minor": 0
}
