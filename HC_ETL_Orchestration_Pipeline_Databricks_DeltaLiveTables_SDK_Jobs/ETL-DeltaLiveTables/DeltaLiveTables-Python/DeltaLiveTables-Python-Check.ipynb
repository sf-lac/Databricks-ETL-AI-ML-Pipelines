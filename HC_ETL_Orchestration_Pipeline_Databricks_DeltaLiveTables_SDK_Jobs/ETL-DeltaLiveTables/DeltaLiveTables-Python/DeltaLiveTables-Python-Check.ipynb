{
 "cells": [
  {
   "cell_type": "code",
   "execution_count": 0,
   "metadata": {
    "application/vnd.databricks.v1+cell": {
     "cellMetadata": {
      "byteLimit": 2048000,
      "rowLimit": 10000
     },
     "inputWidgets": {},
     "nuid": "2fc7d724-6973-4068-a4bf-010e52a71abf",
     "showTitle": false,
     "tableResultSettingsMap": {},
     "title": ""
    }
   },
   "outputs": [
    {
     "output_type": "display_data",
     "data": {
      "text/html": [
       "<style scoped>\n",
       "  .table-result-container {\n",
       "    max-height: 300px;\n",
       "    overflow: auto;\n",
       "  }\n",
       "  table, th, td {\n",
       "    border: 1px solid black;\n",
       "    border-collapse: collapse;\n",
       "  }\n",
       "  th, td {\n",
       "    padding: 5px;\n",
       "  }\n",
       "  th {\n",
       "    text-align: left;\n",
       "  }\n",
       "</style><div class='table-result-container'><table class='table-result'><thead style='background-color: white'><tr><th>Year</th><th>First_Name</th><th>County</th><th>Sex</th><th>Count</th></tr></thead><tbody><tr><td>2021</td><td>OLIVIA</td><td>Albany</td><td>F</td><td>16</td></tr><tr><td>2021</td><td>AMELIA</td><td>Albany</td><td>F</td><td>16</td></tr><tr><td>2021</td><td>SOPHIA</td><td>Albany</td><td>F</td><td>13</td></tr><tr><td>2021</td><td>AVA</td><td>Albany</td><td>F</td><td>13</td></tr><tr><td>2021</td><td>EMMA</td><td>Albany</td><td>F</td><td>12</td></tr><tr><td>2021</td><td>PENELOPE</td><td>Albany</td><td>F</td><td>11</td></tr><tr><td>2021</td><td>MADISON</td><td>Albany</td><td>F</td><td>10</td></tr><tr><td>2021</td><td>ABIGAIL</td><td>Albany</td><td>F</td><td>10</td></tr><tr><td>2021</td><td>HARPER</td><td>Albany</td><td>F</td><td>10</td></tr><tr><td>2021</td><td>ISLA</td><td>Albany</td><td>F</td><td>9</td></tr></tbody></table></div>"
      ]
     },
     "metadata": {
      "application/vnd.databricks.v1+output": {
       "addedWidgets": {},
       "aggData": [],
       "aggError": "",
       "aggOverflow": false,
       "aggSchema": [],
       "aggSeriesLimitReached": false,
       "aggType": "",
       "arguments": {},
       "columnCustomDisplayInfos": {},
       "data": [
        [
         2021,
         "OLIVIA",
         "Albany",
         "F",
         16
        ],
        [
         2021,
         "AMELIA",
         "Albany",
         "F",
         16
        ],
        [
         2021,
         "SOPHIA",
         "Albany",
         "F",
         13
        ],
        [
         2021,
         "AVA",
         "Albany",
         "F",
         13
        ],
        [
         2021,
         "EMMA",
         "Albany",
         "F",
         12
        ],
        [
         2021,
         "PENELOPE",
         "Albany",
         "F",
         11
        ],
        [
         2021,
         "MADISON",
         "Albany",
         "F",
         10
        ],
        [
         2021,
         "ABIGAIL",
         "Albany",
         "F",
         10
        ],
        [
         2021,
         "HARPER",
         "Albany",
         "F",
         10
        ],
        [
         2021,
         "ISLA",
         "Albany",
         "F",
         9
        ]
       ],
       "datasetInfos": [],
       "dbfsResultPath": null,
       "isJsonSchema": true,
       "metadata": {},
       "overflow": false,
       "plotOptions": {
        "customPlotOptions": {},
        "displayType": "table",
        "pivotAggregation": null,
        "pivotColumns": null,
        "xColumns": null,
        "yColumns": null
       },
       "removedWidgets": [],
       "schema": [
        {
         "metadata": "{}",
         "name": "Year",
         "type": "\"integer\""
        },
        {
         "metadata": "{}",
         "name": "First_Name",
         "type": "\"string\""
        },
        {
         "metadata": "{}",
         "name": "County",
         "type": "\"string\""
        },
        {
         "metadata": "{}",
         "name": "Sex",
         "type": "\"string\""
        },
        {
         "metadata": "{}",
         "name": "Count",
         "type": "\"integer\""
        }
       ],
       "type": "table"
      }
     },
     "output_type": "display_data"
    }
   ],
   "source": [
    "display(spark.sql(\"SELECT * FROM main.dlt_python.dlt_bronze limit 10\"))"
   ]
  },
  {
   "cell_type": "code",
   "execution_count": 0,
   "metadata": {
    "application/vnd.databricks.v1+cell": {
     "cellMetadata": {
      "byteLimit": 2048000,
      "rowLimit": 10000
     },
     "inputWidgets": {},
     "nuid": "79bb276b-7d14-4339-b187-a75af315ee54",
     "showTitle": false,
     "tableResultSettingsMap": {},
     "title": ""
    }
   },
   "outputs": [
    {
     "output_type": "display_data",
     "data": {
      "text/html": [
       "<style scoped>\n",
       "  .table-result-container {\n",
       "    max-height: 300px;\n",
       "    overflow: auto;\n",
       "  }\n",
       "  table, th, td {\n",
       "    border: 1px solid black;\n",
       "    border-collapse: collapse;\n",
       "  }\n",
       "  th, td {\n",
       "    padding: 5px;\n",
       "  }\n",
       "  th {\n",
       "    text-align: left;\n",
       "  }\n",
       "</style><div class='table-result-container'><table class='table-result'><thead style='background-color: white'><tr><th>Year_Of_Birth</th><th>First_Name</th><th>Count</th></tr></thead><tbody><tr><td>2021</td><td>OLIVIA</td><td>16</td></tr><tr><td>2021</td><td>AMELIA</td><td>16</td></tr><tr><td>2021</td><td>SOPHIA</td><td>13</td></tr><tr><td>2021</td><td>AVA</td><td>13</td></tr><tr><td>2021</td><td>EMMA</td><td>12</td></tr><tr><td>2021</td><td>PENELOPE</td><td>11</td></tr><tr><td>2021</td><td>MADISON</td><td>10</td></tr><tr><td>2021</td><td>ABIGAIL</td><td>10</td></tr><tr><td>2021</td><td>HARPER</td><td>10</td></tr><tr><td>2021</td><td>ISLA</td><td>9</td></tr></tbody></table></div>"
      ]
     },
     "metadata": {
      "application/vnd.databricks.v1+output": {
       "addedWidgets": {},
       "aggData": [],
       "aggError": "",
       "aggOverflow": false,
       "aggSchema": [],
       "aggSeriesLimitReached": false,
       "aggType": "",
       "arguments": {},
       "columnCustomDisplayInfos": {},
       "data": [
        [
         2021,
         "OLIVIA",
         16
        ],
        [
         2021,
         "AMELIA",
         16
        ],
        [
         2021,
         "SOPHIA",
         13
        ],
        [
         2021,
         "AVA",
         13
        ],
        [
         2021,
         "EMMA",
         12
        ],
        [
         2021,
         "PENELOPE",
         11
        ],
        [
         2021,
         "MADISON",
         10
        ],
        [
         2021,
         "ABIGAIL",
         10
        ],
        [
         2021,
         "HARPER",
         10
        ],
        [
         2021,
         "ISLA",
         9
        ]
       ],
       "datasetInfos": [],
       "dbfsResultPath": null,
       "isJsonSchema": true,
       "metadata": {},
       "overflow": false,
       "plotOptions": {
        "customPlotOptions": {},
        "displayType": "table",
        "pivotAggregation": null,
        "pivotColumns": null,
        "xColumns": null,
        "yColumns": null
       },
       "removedWidgets": [],
       "schema": [
        {
         "metadata": "{}",
         "name": "Year_Of_Birth",
         "type": "\"integer\""
        },
        {
         "metadata": "{}",
         "name": "First_Name",
         "type": "\"string\""
        },
        {
         "metadata": "{}",
         "name": "Count",
         "type": "\"integer\""
        }
       ],
       "type": "table"
      }
     },
     "output_type": "display_data"
    }
   ],
   "source": [
    "display(spark.sql(\"SELECT * FROM main.dlt_python.dlt_silver limit 10\"))"
   ]
  },
  {
   "cell_type": "code",
   "execution_count": 0,
   "metadata": {
    "application/vnd.databricks.v1+cell": {
     "cellMetadata": {
      "byteLimit": 2048000,
      "rowLimit": 10000
     },
     "inputWidgets": {},
     "nuid": "dfe22abd-ea46-4b78-b258-04d28cfe030f",
     "showTitle": false,
     "tableResultSettingsMap": {},
     "title": ""
    }
   },
   "outputs": [
    {
     "output_type": "display_data",
     "data": {
      "text/html": [
       "<style scoped>\n",
       "  .table-result-container {\n",
       "    max-height: 300px;\n",
       "    overflow: auto;\n",
       "  }\n",
       "  table, th, td {\n",
       "    border: 1px solid black;\n",
       "    border-collapse: collapse;\n",
       "  }\n",
       "  th, td {\n",
       "    padding: 5px;\n",
       "  }\n",
       "  th {\n",
       "    text-align: left;\n",
       "  }\n",
       "</style><div class='table-result-container'><table class='table-result'><thead style='background-color: white'><tr><th>First_Name</th><th>Total_Count</th></tr></thead><tbody><tr><td>LIAM</td><td>1359</td></tr><tr><td>NOAH</td><td>1255</td></tr><tr><td>EMMA</td><td>924</td></tr><tr><td>OLIVIA</td><td>924</td></tr><tr><td>LUCAS</td><td>774</td></tr><tr><td>SOPHIA</td><td>754</td></tr><tr><td>JOSEPH</td><td>749</td></tr><tr><td>MIA</td><td>720</td></tr><tr><td>JACOB</td><td>711</td></tr><tr><td>AMELIA</td><td>695</td></tr></tbody></table></div>"
      ]
     },
     "metadata": {
      "application/vnd.databricks.v1+output": {
       "addedWidgets": {},
       "aggData": [],
       "aggError": "",
       "aggOverflow": false,
       "aggSchema": [],
       "aggSeriesLimitReached": false,
       "aggType": "",
       "arguments": {},
       "columnCustomDisplayInfos": {},
       "data": [
        [
         "LIAM",
         1359
        ],
        [
         "NOAH",
         1255
        ],
        [
         "EMMA",
         924
        ],
        [
         "OLIVIA",
         924
        ],
        [
         "LUCAS",
         774
        ],
        [
         "SOPHIA",
         754
        ],
        [
         "JOSEPH",
         749
        ],
        [
         "MIA",
         720
        ],
        [
         "JACOB",
         711
        ],
        [
         "AMELIA",
         695
        ]
       ],
       "datasetInfos": [],
       "dbfsResultPath": null,
       "isJsonSchema": true,
       "metadata": {},
       "overflow": false,
       "plotOptions": {
        "customPlotOptions": {},
        "displayType": "table",
        "pivotAggregation": null,
        "pivotColumns": null,
        "xColumns": null,
        "yColumns": null
       },
       "removedWidgets": [],
       "schema": [
        {
         "metadata": "{}",
         "name": "First_Name",
         "type": "\"string\""
        },
        {
         "metadata": "{}",
         "name": "Total_Count",
         "type": "\"long\""
        }
       ],
       "type": "table"
      }
     },
     "output_type": "display_data"
    }
   ],
   "source": [
    "display(spark.sql(\"SELECT * FROM main.dlt_python.dlt_gold limit 10\"))"
   ]
  }
 ],
 "metadata": {
  "application/vnd.databricks.v1+notebook": {
   "dashboards": [],
   "environmentMetadata": {
    "base_environment": "",
    "client": "1"
   },
   "language": "python",
   "notebookMetadata": {
    "pythonIndentUnit": 2
   },
   "notebookName": "DeltaLiveTables-Python-Check",
   "widgets": {}
  },
  "language_info": {
   "name": "python"
  }
 },
 "nbformat": 4,
 "nbformat_minor": 0
}